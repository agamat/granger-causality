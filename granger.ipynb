{
 "cells": [
  {
   "cell_type": "code",
   "execution_count": 31,
   "metadata": {
    "collapsed": false
   },
   "outputs": [],
   "source": [
    "import pandas as pd\n",
    "import numpy as np\n",
    "import statsmodels.api as sm\n",
    "from statsmodels.tsa.api import VAR, DynamicVAR\n",
    "from statsmodels.tsa.base.datetools import dates_from_str"
   ]
  },
  {
   "cell_type": "code",
   "execution_count": 47,
   "metadata": {
    "collapsed": false
   },
   "outputs": [],
   "source": [
    "# Check whether one time series G-causes the other\n",
    "#    model:\n",
    "#           y_t = Sum_{j=1}^p A_{11, j} x_{t-j} + Sum_{j=1}^p A_{12, j} y_{t-j} + Error\n",
    "#    inputs:\n",
    "#           x_t: regressor time trend (pandas series of length T)\n",
    "#           y_t: dependent variable time trend (pandas series of length T)\n",
    "#    output:\n",
    "#           logarithm of F-statistic from F-Test with null hypothesis A_{12}| = 0\n",
    "def granger_causes(x_t, y_t):\n",
    "    data = pd.concat([x_t, y_t], axis=1)\n",
    "    data.index = pd.DatetimeIndex(range(0,len(x_t))) # currently uses index as ns\n",
    "    model = VAR(data)\n",
    "    results = model.fit(2)\n",
    "    results.test_causality(list(data)[1], [list(data)[0])], kind='f')\n",
    "    "
   ]
  },
  {
   "cell_type": "code",
   "execution_count": 48,
   "metadata": {
    "collapsed": false
   },
   "outputs": [
    {
     "name": "stdout",
     "output_type": "stream",
     "text": [
      "Granger causality f-test\n",
      "=============================================================\n",
      "   Test statistic   Critical Value          p-value        df\n",
      "-------------------------------------------------------------\n",
      "        22.921848         3.018743            0.000  (2, 392)\n",
      "=============================================================\n",
      "H_0: ['realcons'] do not Granger-cause realgdp\n",
      "Conclusion: reject H_0 at 5.00% significance level\n"
     ]
    }
   ],
   "source": [
    "granger_causes(x_t, y_t)"
   ]
  },
  {
   "cell_type": "code",
   "execution_count": 6,
   "metadata": {
    "collapsed": true
   },
   "outputs": [],
   "source": [
    "mdata = sm.datasets.macrodata.load_pandas().data"
   ]
  },
  {
   "cell_type": "code",
   "execution_count": 37,
   "metadata": {
    "collapsed": false
   },
   "outputs": [],
   "source": [
    "x_t = mdata['realgdp']\n",
    "y_t = mdata['realcons']\n",
    "z_t = mdata['realinv']"
   ]
  },
  {
   "cell_type": "code",
   "execution_count": 52,
   "metadata": {
    "collapsed": false
   },
   "outputs": [
    {
     "name": "stdout",
     "output_type": "stream",
     "text": [
      "realcons\n"
     ]
    }
   ],
   "source": [
    "data = pd.concat([x_t, y_t, z_t], axis=1)\n",
    "\n",
    "#data.index = pd.DatetimeIndex(range(0,len(x_t))) # currently uses index as ns\n",
    "\n",
    "# test\n",
    "dates = mdata[['year', 'quarter']].astype(int).astype(str)\n",
    "quarterly = dates[\"year\"] + \"Q\" + dates[\"quarter\"]\n",
    "quarterly = dates_from_str(quarterly)\n",
    "data.index = pd.DatetimeIndex(quarterly)\n",
    "\n",
    "cdata = data.diff().dropna()\n",
    "model = VAR(cdata)\n",
    "results = model.fit(2)\n",
    "results.summary()\n",
    "\n",
    "print(list(data)[1])"
   ]
  },
  {
   "cell_type": "code",
   "execution_count": 44,
   "metadata": {
    "collapsed": false
   },
   "outputs": [],
   "source": []
  },
  {
   "cell_type": "code",
   "execution_count": 18,
   "metadata": {
    "collapsed": false
   },
   "outputs": [
    {
     "name": "stdout",
     "output_type": "stream",
     "text": [
      "       realgdp  realcons   realinv\n",
      "0     2710.349    1707.4   286.898\n",
      "1     2778.801    1733.7   310.859\n",
      "2     2775.488    1751.8   289.226\n",
      "3     2785.204    1753.7   299.356\n",
      "4     2847.699    1770.5   331.722\n",
      "5     2834.390    1792.9   298.152\n",
      "6     2839.022    1785.8   296.375\n",
      "7     2802.616    1788.2   259.764\n",
      "8     2819.264    1787.7   266.405\n",
      "9     2872.005    1814.3   286.246\n",
      "10    2918.419    1823.1   310.227\n",
      "11    2977.830    1859.6   315.463\n",
      "12    3031.241    1879.4   334.271\n",
      "13    3064.709    1902.5   331.039\n",
      "14    3093.047    1917.9   336.962\n",
      "15    3100.563    1945.1   325.650\n",
      "16    3141.087    1958.2   343.721\n",
      "17    3180.447    1976.9   348.730\n",
      "18    3240.332    2003.8   360.102\n",
      "19    3264.967    2020.6   364.534\n",
      "20    3338.246    2060.5   379.523\n",
      "21    3376.587    2096.7   377.778\n",
      "22    3422.469    2135.2   386.754\n",
      "23    3431.957    2141.2   389.910\n",
      "24    3516.251    2188.8   429.145\n",
      "25    3563.960    2213.0   429.119\n",
      "26    3636.285    2251.0   444.444\n",
      "27    3724.014    2314.3   446.493\n",
      "28    3815.423    2348.5   484.244\n",
      "29    3828.124    2354.5   475.408\n",
      "..         ...       ...       ...\n",
      "173  11538.770    7997.8  1810.779\n",
      "174  11596.430    8052.0  1814.531\n",
      "175  11598.824    8080.6  1813.219\n",
      "176  11645.819    8122.3  1813.141\n",
      "177  11738.706    8197.8  1823.698\n",
      "178  11935.461    8312.1  1889.883\n",
      "179  12042.817    8358.0  1959.783\n",
      "180  12127.623    8437.6  1970.015\n",
      "181  12213.818    8483.2  2055.580\n",
      "182  12303.533    8555.8  2082.231\n",
      "183  12410.282    8654.2  2125.152\n",
      "184  12534.113    8719.0  2170.299\n",
      "185  12587.535    8802.9  2131.468\n",
      "186  12683.153    8865.6  2154.949\n",
      "187  12748.699    8888.5  2232.193\n",
      "188  12915.938    8986.6  2264.721\n",
      "189  12962.462    9035.0  2261.247\n",
      "190  12965.916    9090.7  2229.636\n",
      "191  13060.679    9181.6  2165.966\n",
      "192  13099.901    9265.1  2132.609\n",
      "193  13203.977    9291.5  2162.214\n",
      "194  13321.109    9335.6  2166.491\n",
      "195  13391.249    9363.6  2123.426\n",
      "196  13366.865    9349.6  2082.886\n",
      "197  13415.266    9351.0  2026.518\n",
      "198  13324.600    9267.7  1990.693\n",
      "199  13141.920    9195.3  1857.661\n",
      "200  12925.410    9209.2  1558.494\n",
      "201  12901.504    9189.0  1456.678\n",
      "202  12990.341    9256.0  1486.398\n",
      "\n",
      "[203 rows x 3 columns]\n"
     ]
    }
   ],
   "source": []
  },
  {
   "cell_type": "code",
   "execution_count": 25,
   "metadata": {
    "collapsed": false
   },
   "outputs": [
    {
     "name": "stdout",
     "output_type": "stream",
     "text": [
      "[datetime.datetime(1959, 3, 31, 0, 0), datetime.datetime(1959, 6, 30, 0, 0), datetime.datetime(1959, 9, 30, 0, 0), datetime.datetime(1959, 12, 31, 0, 0), datetime.datetime(1960, 3, 31, 0, 0), datetime.datetime(1960, 6, 30, 0, 0), datetime.datetime(1960, 9, 30, 0, 0), datetime.datetime(1960, 12, 31, 0, 0), datetime.datetime(1961, 3, 31, 0, 0), datetime.datetime(1961, 6, 30, 0, 0), datetime.datetime(1961, 9, 30, 0, 0), datetime.datetime(1961, 12, 31, 0, 0), datetime.datetime(1962, 3, 31, 0, 0), datetime.datetime(1962, 6, 30, 0, 0), datetime.datetime(1962, 9, 30, 0, 0), datetime.datetime(1962, 12, 31, 0, 0), datetime.datetime(1963, 3, 31, 0, 0), datetime.datetime(1963, 6, 30, 0, 0), datetime.datetime(1963, 9, 30, 0, 0), datetime.datetime(1963, 12, 31, 0, 0), datetime.datetime(1964, 3, 31, 0, 0), datetime.datetime(1964, 6, 30, 0, 0), datetime.datetime(1964, 9, 30, 0, 0), datetime.datetime(1964, 12, 31, 0, 0), datetime.datetime(1965, 3, 31, 0, 0), datetime.datetime(1965, 6, 30, 0, 0), datetime.datetime(1965, 9, 30, 0, 0), datetime.datetime(1965, 12, 31, 0, 0), datetime.datetime(1966, 3, 31, 0, 0), datetime.datetime(1966, 6, 30, 0, 0), datetime.datetime(1966, 9, 30, 0, 0), datetime.datetime(1966, 12, 31, 0, 0), datetime.datetime(1967, 3, 31, 0, 0), datetime.datetime(1967, 6, 30, 0, 0), datetime.datetime(1967, 9, 30, 0, 0), datetime.datetime(1967, 12, 31, 0, 0), datetime.datetime(1968, 3, 31, 0, 0), datetime.datetime(1968, 6, 30, 0, 0), datetime.datetime(1968, 9, 30, 0, 0), datetime.datetime(1968, 12, 31, 0, 0), datetime.datetime(1969, 3, 31, 0, 0), datetime.datetime(1969, 6, 30, 0, 0), datetime.datetime(1969, 9, 30, 0, 0), datetime.datetime(1969, 12, 31, 0, 0), datetime.datetime(1970, 3, 31, 0, 0), datetime.datetime(1970, 6, 30, 0, 0), datetime.datetime(1970, 9, 30, 0, 0), datetime.datetime(1970, 12, 31, 0, 0), datetime.datetime(1971, 3, 31, 0, 0), datetime.datetime(1971, 6, 30, 0, 0), datetime.datetime(1971, 9, 30, 0, 0), datetime.datetime(1971, 12, 31, 0, 0), datetime.datetime(1972, 3, 31, 0, 0), datetime.datetime(1972, 6, 30, 0, 0), datetime.datetime(1972, 9, 30, 0, 0), datetime.datetime(1972, 12, 31, 0, 0), datetime.datetime(1973, 3, 31, 0, 0), datetime.datetime(1973, 6, 30, 0, 0), datetime.datetime(1973, 9, 30, 0, 0), datetime.datetime(1973, 12, 31, 0, 0), datetime.datetime(1974, 3, 31, 0, 0), datetime.datetime(1974, 6, 30, 0, 0), datetime.datetime(1974, 9, 30, 0, 0), datetime.datetime(1974, 12, 31, 0, 0), datetime.datetime(1975, 3, 31, 0, 0), datetime.datetime(1975, 6, 30, 0, 0), datetime.datetime(1975, 9, 30, 0, 0), datetime.datetime(1975, 12, 31, 0, 0), datetime.datetime(1976, 3, 31, 0, 0), datetime.datetime(1976, 6, 30, 0, 0), datetime.datetime(1976, 9, 30, 0, 0), datetime.datetime(1976, 12, 31, 0, 0), datetime.datetime(1977, 3, 31, 0, 0), datetime.datetime(1977, 6, 30, 0, 0), datetime.datetime(1977, 9, 30, 0, 0), datetime.datetime(1977, 12, 31, 0, 0), datetime.datetime(1978, 3, 31, 0, 0), datetime.datetime(1978, 6, 30, 0, 0), datetime.datetime(1978, 9, 30, 0, 0), datetime.datetime(1978, 12, 31, 0, 0), datetime.datetime(1979, 3, 31, 0, 0), datetime.datetime(1979, 6, 30, 0, 0), datetime.datetime(1979, 9, 30, 0, 0), datetime.datetime(1979, 12, 31, 0, 0), datetime.datetime(1980, 3, 31, 0, 0), datetime.datetime(1980, 6, 30, 0, 0), datetime.datetime(1980, 9, 30, 0, 0), datetime.datetime(1980, 12, 31, 0, 0), datetime.datetime(1981, 3, 31, 0, 0), datetime.datetime(1981, 6, 30, 0, 0), datetime.datetime(1981, 9, 30, 0, 0), datetime.datetime(1981, 12, 31, 0, 0), datetime.datetime(1982, 3, 31, 0, 0), datetime.datetime(1982, 6, 30, 0, 0), datetime.datetime(1982, 9, 30, 0, 0), datetime.datetime(1982, 12, 31, 0, 0), datetime.datetime(1983, 3, 31, 0, 0), datetime.datetime(1983, 6, 30, 0, 0), datetime.datetime(1983, 9, 30, 0, 0), datetime.datetime(1983, 12, 31, 0, 0), datetime.datetime(1984, 3, 31, 0, 0), datetime.datetime(1984, 6, 30, 0, 0), datetime.datetime(1984, 9, 30, 0, 0), datetime.datetime(1984, 12, 31, 0, 0), datetime.datetime(1985, 3, 31, 0, 0), datetime.datetime(1985, 6, 30, 0, 0), datetime.datetime(1985, 9, 30, 0, 0), datetime.datetime(1985, 12, 31, 0, 0), datetime.datetime(1986, 3, 31, 0, 0), datetime.datetime(1986, 6, 30, 0, 0), datetime.datetime(1986, 9, 30, 0, 0), datetime.datetime(1986, 12, 31, 0, 0), datetime.datetime(1987, 3, 31, 0, 0), datetime.datetime(1987, 6, 30, 0, 0), datetime.datetime(1987, 9, 30, 0, 0), datetime.datetime(1987, 12, 31, 0, 0), datetime.datetime(1988, 3, 31, 0, 0), datetime.datetime(1988, 6, 30, 0, 0), datetime.datetime(1988, 9, 30, 0, 0), datetime.datetime(1988, 12, 31, 0, 0), datetime.datetime(1989, 3, 31, 0, 0), datetime.datetime(1989, 6, 30, 0, 0), datetime.datetime(1989, 9, 30, 0, 0), datetime.datetime(1989, 12, 31, 0, 0), datetime.datetime(1990, 3, 31, 0, 0), datetime.datetime(1990, 6, 30, 0, 0), datetime.datetime(1990, 9, 30, 0, 0), datetime.datetime(1990, 12, 31, 0, 0), datetime.datetime(1991, 3, 31, 0, 0), datetime.datetime(1991, 6, 30, 0, 0), datetime.datetime(1991, 9, 30, 0, 0), datetime.datetime(1991, 12, 31, 0, 0), datetime.datetime(1992, 3, 31, 0, 0), datetime.datetime(1992, 6, 30, 0, 0), datetime.datetime(1992, 9, 30, 0, 0), datetime.datetime(1992, 12, 31, 0, 0), datetime.datetime(1993, 3, 31, 0, 0), datetime.datetime(1993, 6, 30, 0, 0), datetime.datetime(1993, 9, 30, 0, 0), datetime.datetime(1993, 12, 31, 0, 0), datetime.datetime(1994, 3, 31, 0, 0), datetime.datetime(1994, 6, 30, 0, 0), datetime.datetime(1994, 9, 30, 0, 0), datetime.datetime(1994, 12, 31, 0, 0), datetime.datetime(1995, 3, 31, 0, 0), datetime.datetime(1995, 6, 30, 0, 0), datetime.datetime(1995, 9, 30, 0, 0), datetime.datetime(1995, 12, 31, 0, 0), datetime.datetime(1996, 3, 31, 0, 0), datetime.datetime(1996, 6, 30, 0, 0), datetime.datetime(1996, 9, 30, 0, 0), datetime.datetime(1996, 12, 31, 0, 0), datetime.datetime(1997, 3, 31, 0, 0), datetime.datetime(1997, 6, 30, 0, 0), datetime.datetime(1997, 9, 30, 0, 0), datetime.datetime(1997, 12, 31, 0, 0), datetime.datetime(1998, 3, 31, 0, 0), datetime.datetime(1998, 6, 30, 0, 0), datetime.datetime(1998, 9, 30, 0, 0), datetime.datetime(1998, 12, 31, 0, 0), datetime.datetime(1999, 3, 31, 0, 0), datetime.datetime(1999, 6, 30, 0, 0), datetime.datetime(1999, 9, 30, 0, 0), datetime.datetime(1999, 12, 31, 0, 0), datetime.datetime(2000, 3, 31, 0, 0), datetime.datetime(2000, 6, 30, 0, 0), datetime.datetime(2000, 9, 30, 0, 0), datetime.datetime(2000, 12, 31, 0, 0), datetime.datetime(2001, 3, 31, 0, 0), datetime.datetime(2001, 6, 30, 0, 0), datetime.datetime(2001, 9, 30, 0, 0), datetime.datetime(2001, 12, 31, 0, 0), datetime.datetime(2002, 3, 31, 0, 0), datetime.datetime(2002, 6, 30, 0, 0), datetime.datetime(2002, 9, 30, 0, 0), datetime.datetime(2002, 12, 31, 0, 0), datetime.datetime(2003, 3, 31, 0, 0), datetime.datetime(2003, 6, 30, 0, 0), datetime.datetime(2003, 9, 30, 0, 0), datetime.datetime(2003, 12, 31, 0, 0), datetime.datetime(2004, 3, 31, 0, 0), datetime.datetime(2004, 6, 30, 0, 0), datetime.datetime(2004, 9, 30, 0, 0), datetime.datetime(2004, 12, 31, 0, 0), datetime.datetime(2005, 3, 31, 0, 0), datetime.datetime(2005, 6, 30, 0, 0), datetime.datetime(2005, 9, 30, 0, 0), datetime.datetime(2005, 12, 31, 0, 0), datetime.datetime(2006, 3, 31, 0, 0), datetime.datetime(2006, 6, 30, 0, 0), datetime.datetime(2006, 9, 30, 0, 0), datetime.datetime(2006, 12, 31, 0, 0), datetime.datetime(2007, 3, 31, 0, 0), datetime.datetime(2007, 6, 30, 0, 0), datetime.datetime(2007, 9, 30, 0, 0), datetime.datetime(2007, 12, 31, 0, 0), datetime.datetime(2008, 3, 31, 0, 0), datetime.datetime(2008, 6, 30, 0, 0), datetime.datetime(2008, 9, 30, 0, 0), datetime.datetime(2008, 12, 31, 0, 0), datetime.datetime(2009, 3, 31, 0, 0), datetime.datetime(2009, 6, 30, 0, 0), datetime.datetime(2009, 9, 30, 0, 0)]\n"
     ]
    }
   ],
   "source": [
    "dates = mdata[['year', 'quarter']].astype(int).astype(str)\n",
    "quarterly = dates[\"year\"] + \"Q\" + dates[\"quarter\"]\n",
    "from statsmodels.tsa.base.datetools import dates_from_str\n",
    "quarterly = dates_from_str(quarterly)\n",
    "print(quarterly)"
   ]
  },
  {
   "cell_type": "code",
   "execution_count": null,
   "metadata": {
    "collapsed": true
   },
   "outputs": [],
   "source": []
  }
 ],
 "metadata": {
  "kernelspec": {
   "display_name": "Python 2",
   "language": "python",
   "name": "python2"
  },
  "language_info": {
   "codemirror_mode": {
    "name": "ipython",
    "version": 2
   },
   "file_extension": ".py",
   "mimetype": "text/x-python",
   "name": "python",
   "nbconvert_exporter": "python",
   "pygments_lexer": "ipython2",
   "version": "2.7.12"
  }
 },
 "nbformat": 4,
 "nbformat_minor": 0
}
