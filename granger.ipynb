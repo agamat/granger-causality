{
 "cells": [
  {
   "cell_type": "code",
   "execution_count": 31,
   "metadata": {
    "collapsed": false
   },
   "outputs": [],
   "source": [
    "import pandas as pd\n",
    "import numpy as np\n",
    "import statsmodels.api as sm\n",
    "from statsmodels.tsa.api import VAR, DynamicVAR\n",
    "from statsmodels.tsa.base.datetools import dates_from_str"
   ]
  },
  {
   "cell_type": "code",
   "execution_count": 58,
   "metadata": {
    "collapsed": false
   },
   "outputs": [],
   "source": [
    "# Check whether one time series G-causes the other\n",
    "#    model:\n",
    "#           y_t = Sum_{j=1}^p A_{11, j} x_{t-j} + Sum_{j=1}^p A_{12, j} y_{t-j} + Error\n",
    "#    inputs:\n",
    "#           data: T x 3 numpy array, where T = number of time steps\n",
    "#               column 1: time index\n",
    "#               column 2: x_t, regressor time trend\n",
    "#               column 3: y_t: dependent variable time trend\n",
    "#    output:\n",
    "#           logarithm of F-statistic from F-Test with null hypothesis A_{12}| = 0\n",
    "def granger_causes(ndata):\n",
    "    data = pd.DataFrame(ndata[:,[1,2]])\n",
    "    data.index = ndata[:,[0]]\n",
    "    model = VAR(data)\n",
    "    results = model.fit(2)\n",
    "    results.test_causality(list(data)[2], [list(data)[1]], kind='f')\n",
    "    "
   ]
  },
  {
   "cell_type": "code",
   "execution_count": 55,
   "metadata": {
    "collapsed": false
   },
   "outputs": [
    {
     "name": "stdout",
     "output_type": "stream",
     "text": [
      "Granger causality f-test\n",
      "=============================================================\n",
      "   Test statistic   Critical Value          p-value        df\n",
      "-------------------------------------------------------------\n",
      "         2.522101         3.018743            0.082  (2, 392)\n",
      "=============================================================\n",
      "H_0: ['realgdp'] do not Granger-cause realcons\n",
      "Conclusion: fail to reject H_0 at 5.00% significance level\n"
     ]
    }
   ],
   "source": [
    "granger_causes(x_t, y_t)"
   ]
  },
  {
   "cell_type": "code",
   "execution_count": null,
   "metadata": {
    "collapsed": true
   },
   "outputs": [],
   "source": []
  },
  {
   "cell_type": "code",
   "execution_count": null,
   "metadata": {
    "collapsed": false
   },
   "outputs": [],
   "source": []
  },
  {
   "cell_type": "code",
   "execution_count": null,
   "metadata": {
    "collapsed": false
   },
   "outputs": [],
   "source": []
  },
  {
   "cell_type": "code",
   "execution_count": 44,
   "metadata": {
    "collapsed": false
   },
   "outputs": [],
   "source": []
  },
  {
   "cell_type": "code",
   "execution_count": null,
   "metadata": {
    "collapsed": false
   },
   "outputs": [],
   "source": []
  },
  {
   "cell_type": "code",
   "execution_count": null,
   "metadata": {
    "collapsed": false
   },
   "outputs": [],
   "source": []
  },
  {
   "cell_type": "code",
   "execution_count": null,
   "metadata": {
    "collapsed": true
   },
   "outputs": [],
   "source": []
  }
 ],
 "metadata": {
  "kernelspec": {
   "display_name": "Python 2",
   "language": "python",
   "name": "python2"
  },
  "language_info": {
   "codemirror_mode": {
    "name": "ipython",
    "version": 2
   },
   "file_extension": ".py",
   "mimetype": "text/x-python",
   "name": "python",
   "nbconvert_exporter": "python",
   "pygments_lexer": "ipython2",
   "version": "2.7.12"
  }
 },
 "nbformat": 4,
 "nbformat_minor": 0
}
