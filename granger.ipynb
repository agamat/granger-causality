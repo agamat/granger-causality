{
 "cells": [
  {
   "cell_type": "code",
   "execution_count": 1,
   "metadata": {
    "collapsed": false
   },
   "outputs": [],
   "source": [
    "import pandas as pd\n",
    "import numpy as np\n",
    "import statsmodels.api as sm\n",
    "from statsmodels.tsa.api import VAR, DynamicVAR\n",
    "from statsmodels.tsa.base.datetools import dates_from_str\n",
    "import datetime\n",
    "\n",
    "from IO import get_data"
   ]
  },
  {
   "cell_type": "code",
   "execution_count": 25,
   "metadata": {
    "collapsed": false
   },
   "outputs": [],
   "source": [
    "# Check whether one time series G-causes the other\n",
    "#    model:\n",
    "#           y_t = Sum_{j=1}^p A_{11, j} x_{t-j} + Sum_{j=1}^p A_{12, j} y_{t-j} + Error\n",
    "#    inputs:\n",
    "#           data: T x 3 numpy array, where T = number of time steps\n",
    "#               column 1: time index\n",
    "#               column 2: x_t, regressor time trend\n",
    "#               column 3: y_t: dependent variable time trend\n",
    "#    output:\n",
    "#           logarithm of F-statistic from F-Test with null hypothesis A_{12}| = 0\n",
    "def granger_causes(ndata):\n",
    "    data = pd.DataFrame(ndata[:,1:], columns=[\"aapl\", \"amzn\", \"goog\", \"mu\"])\n",
    "    date_col = [datetime.datetime.fromtimestamp(x) for x in ndata[:,[0]]]\n",
    "    dates = pd.Series(date_col)\n",
    "    data.index = dates\n",
    "    model = VAR(data)\n",
    "    results = model.fit(2)\n",
    "    results.test_causality(list(data)[-1], list(data)[0], kind='f')\n",
    "    "
   ]
  },
  {
   "cell_type": "code",
   "execution_count": 23,
   "metadata": {
    "collapsed": false
   },
   "outputs": [
    {
     "name": "stdout",
     "output_type": "stream",
     "text": [
      "Reading data/AAPL.csv\n",
      "Reading data/AMZN.csv\n",
      "Reading data/GOOG.csv\n",
      "Reading data/MU.csv\n"
     ]
    }
   ],
   "source": [
    "#1. d = get_data([\"data/AAPL.csv\", \"data/ADI.csv\"])\n",
    "#2. d = get_data([\"data/AAPL.csv\", \"data/AMZN.csv\", \"data/GOOG.csv\", \"data/ADI.csv\"])\n",
    "#3/4. d = get_data([\"data/AAPL.csv\", \"data/AMZN.csv\", \"data/GOOG.csv\", \"data/MU.csv\"])"
   ]
  },
  {
   "cell_type": "code",
   "execution_count": 26,
   "metadata": {
    "collapsed": false
   },
   "outputs": [
    {
     "name": "stdout",
     "output_type": "stream",
     "text": [
      "Granger causality f-test\n",
      "===============================================================\n",
      "   Test statistic   Critical Value          p-value          df\n",
      "---------------------------------------------------------------\n",
      "         3.426328         2.996436            0.033  (2, 12760)\n",
      "===============================================================\n",
      "H_0: ['aapl'] do not Granger-cause mu\n",
      "Conclusion: reject H_0 at 5.00% significance level\n"
     ]
    }
   ],
   "source": [
    "granger_causes(d)"
   ]
  },
  {
   "cell_type": "code",
   "execution_count": 106,
   "metadata": {
    "collapsed": false
   },
   "outputs": [
    {
     "data": {
      "text/plain": [
       "pandas.core.series.Series"
      ]
     },
     "execution_count": 106,
     "metadata": {},
     "output_type": "execute_result"
    }
   ],
   "source": [
    "mdata = sm.datasets.macrodata.load_pandas().data\n",
    "dates = mdata[['year', 'quarter']].astype(int).astype(str)\n",
    "quarterly = dates[\"year\"] + \"Q\" + dates[\"quarter\"]\n",
    "type(dates[\"quarter\"])\n",
    "#quarterly = dates_from_str(quarterly)"
   ]
  },
  {
   "cell_type": "code",
   "execution_count": 85,
   "metadata": {
    "collapsed": false
   },
   "outputs": [
    {
     "name": "stdout",
     "output_type": "stream",
     "text": [
      "0      1959Q1\n",
      "1      1959Q2\n",
      "2      1959Q3\n",
      "3      1959Q4\n",
      "4      1960Q1\n",
      "5      1960Q2\n",
      "6      1960Q3\n",
      "7      1960Q4\n",
      "8      1961Q1\n",
      "9      1961Q2\n",
      "10     1961Q3\n",
      "11     1961Q4\n",
      "12     1962Q1\n",
      "13     1962Q2\n",
      "14     1962Q3\n",
      "15     1962Q4\n",
      "16     1963Q1\n",
      "17     1963Q2\n",
      "18     1963Q3\n",
      "19     1963Q4\n",
      "20     1964Q1\n",
      "21     1964Q2\n",
      "22     1964Q3\n",
      "23     1964Q4\n",
      "24     1965Q1\n",
      "25     1965Q2\n",
      "26     1965Q3\n",
      "27     1965Q4\n",
      "28     1966Q1\n",
      "29     1966Q2\n",
      "        ...  \n",
      "173    2002Q2\n",
      "174    2002Q3\n",
      "175    2002Q4\n",
      "176    2003Q1\n",
      "177    2003Q2\n",
      "178    2003Q3\n",
      "179    2003Q4\n",
      "180    2004Q1\n",
      "181    2004Q2\n",
      "182    2004Q3\n",
      "183    2004Q4\n",
      "184    2005Q1\n",
      "185    2005Q2\n",
      "186    2005Q3\n",
      "187    2005Q4\n",
      "188    2006Q1\n",
      "189    2006Q2\n",
      "190    2006Q3\n",
      "191    2006Q4\n",
      "192    2007Q1\n",
      "193    2007Q2\n",
      "194    2007Q3\n",
      "195    2007Q4\n",
      "196    2008Q1\n",
      "197    2008Q2\n",
      "198    2008Q3\n",
      "199    2008Q4\n",
      "200    2009Q1\n",
      "201    2009Q2\n",
      "202    2009Q3\n",
      "dtype: object\n"
     ]
    }
   ],
   "source": [
    "print(quarterly)"
   ]
  },
  {
   "cell_type": "code",
   "execution_count": 44,
   "metadata": {
    "collapsed": false
   },
   "outputs": [],
   "source": []
  },
  {
   "cell_type": "code",
   "execution_count": null,
   "metadata": {
    "collapsed": false
   },
   "outputs": [],
   "source": []
  },
  {
   "cell_type": "code",
   "execution_count": null,
   "metadata": {
    "collapsed": false
   },
   "outputs": [],
   "source": []
  },
  {
   "cell_type": "code",
   "execution_count": null,
   "metadata": {
    "collapsed": true
   },
   "outputs": [],
   "source": []
  }
 ],
 "metadata": {
  "kernelspec": {
   "display_name": "Python 2",
   "language": "python",
   "name": "python2"
  },
  "language_info": {
   "codemirror_mode": {
    "name": "ipython",
    "version": 2
   },
   "file_extension": ".py",
   "mimetype": "text/x-python",
   "name": "python",
   "nbconvert_exporter": "python",
   "pygments_lexer": "ipython2",
   "version": "2.7.12"
  }
 },
 "nbformat": 4,
 "nbformat_minor": 0
}
